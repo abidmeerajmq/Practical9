{
 "cells": [
  {
   "cell_type": "markdown",
   "id": "df074e41",
   "metadata": {},
   "source": [
    "# Week 9 Practical\n",
    "\n",
    "In this practical we will be looking at a dataset called \"Symptom2Disease\" \n",
    "from https://www.kaggle.com/datasets/niyarrbarman/symptom2disease \n",
    "\n",
    "Authors:\n",
    "\n",
    "- Niyar R Barman\n",
    "- Faizal Karim\n",
    "- Krish Sharma\n",
    "\n",
    "It's not quite real, but it is believable: their methodology was:\n",
    "\n",
    "> We collected disease symptoms for 24 common diseases. We then used LLMs to convert the\n",
    "> raw data into natural language description of symptoms."
   ]
  },
  {
   "cell_type": "markdown",
   "id": "dcfba320",
   "metadata": {},
   "source": [
    "## Data preparation\n",
    "\n",
    "The data set is in the same folder as this jupyter notebook, with the name Symptom2Disease.csv\n",
    "\n",
    "Load it up into a dataframe and view it"
   ]
  },
  {
   "cell_type": "code",
   "execution_count": null,
   "id": "efa31727",
   "metadata": {},
   "outputs": [],
   "source": []
  },
  {
   "cell_type": "markdown",
   "id": "3e4ee49d",
   "metadata": {},
   "source": [
    "How many different diseases are listed (\"label\")? Is this a balanced data set?"
   ]
  },
  {
   "cell_type": "code",
   "execution_count": null,
   "id": "0adb52fc",
   "metadata": {},
   "outputs": [],
   "source": []
  },
  {
   "cell_type": "markdown",
   "id": "c94a7bcb",
   "metadata": {},
   "source": [
    "We'll start with a slightly easier problem: instead of predicting the disease specifically, let's\n",
    "just see whether someone with those symptoms should visit a general practitioner to be treated, or whether\n",
    "they will end up seeing a specialist.\n",
    "\n",
    "The diseases that are very common and general practitioner might be able to treat are:\n",
    "\n",
    "- Common Cold\n",
    "\n",
    "- Bronchial Asthma\n",
    "\n",
    "- Hypertension\n",
    "\n",
    "- Migraine\n",
    "\n",
    "- Allergy\n",
    "\n",
    "- Drug Reaction\n",
    "\n",
    "- Urinary Tract Infection\n",
    "\n",
    "Update your dataframe with a column \"requires_specialist\" for the diseases not in that list."
   ]
  },
  {
   "cell_type": "code",
   "execution_count": null,
   "id": "9e3e630d",
   "metadata": {},
   "outputs": [],
   "source": []
  },
  {
   "cell_type": "markdown",
   "id": "e28d1fc7",
   "metadata": {},
   "source": [
    "Is it a balanced data set now?"
   ]
  },
  {
   "cell_type": "code",
   "execution_count": null,
   "id": "ec12bedd",
   "metadata": {},
   "outputs": [],
   "source": []
  },
  {
   "cell_type": "markdown",
   "id": "71dddf2d",
   "metadata": {},
   "source": [
    "Split the data into training, validation and test data. You can do this by running \n",
    "`sklearn.model_selection.train_test_split` twice."
   ]
  },
  {
   "cell_type": "code",
   "execution_count": null,
   "id": "37d11d99",
   "metadata": {},
   "outputs": [],
   "source": []
  },
  {
   "cell_type": "markdown",
   "id": "e54aea1f",
   "metadata": {},
   "source": [
    "Create a `keras.layers.TextVectorization` object with `output_mode='tf_idf'`, and `.adapt()` it to \n",
    "the text of your training data."
   ]
  },
  {
   "cell_type": "code",
   "execution_count": null,
   "id": "ee3f8c3a",
   "metadata": {},
   "outputs": [],
   "source": []
  },
  {
   "cell_type": "markdown",
   "id": "cef5d09d",
   "metadata": {},
   "source": [
    "Convert your training, validation and test data into TF-IDF vectors using your vectorizer."
   ]
  },
  {
   "cell_type": "code",
   "execution_count": null,
   "id": "70f7f65f",
   "metadata": {},
   "outputs": [],
   "source": []
  },
  {
   "cell_type": "markdown",
   "id": "a2a802cd",
   "metadata": {},
   "source": [
    "## A small logistic regression classifier using Keras\n",
    "\n",
    "Let's see if we can predict who is going to need a specialist.\n",
    "\n",
    "`prog3f.py` is a good sample to work from."
   ]
  },
  {
   "cell_type": "markdown",
   "id": "6cc766ba",
   "metadata": {},
   "source": [
    "Create a `keras.Input` object. Its shape should be the size of the vocabulary in your vectorizer."
   ]
  },
  {
   "cell_type": "code",
   "execution_count": null,
   "id": "6f018e1c",
   "metadata": {},
   "outputs": [],
   "source": []
  },
  {
   "cell_type": "markdown",
   "id": "5c83745a",
   "metadata": {},
   "source": [
    "Create a `keras.layers.Dense` object to be your output layer, and pass it your input object\n",
    "as a function argument.\n",
    "\n",
    "Because there is only one value (\"needs a specialist or not\"), it should have one neuron, and a sigmoid activation."
   ]
  },
  {
   "cell_type": "code",
   "execution_count": null,
   "id": "f9bef20f",
   "metadata": {},
   "outputs": [],
   "source": []
  },
  {
   "cell_type": "markdown",
   "id": "937a1a88",
   "metadata": {},
   "source": [
    "Create a `keras.Model` object. `inputs=` the input object; `outputs=` the output layer"
   ]
  },
  {
   "cell_type": "code",
   "execution_count": null,
   "id": "26fb5ced",
   "metadata": {},
   "outputs": [],
   "source": []
  },
  {
   "cell_type": "markdown",
   "id": "8512d859",
   "metadata": {},
   "source": [
    "Compile the model. There are only two classes, so you can use `binary_crossentropy`.\n",
    "\n",
    "We want to know accuracy, recall and precision. (Given how unbalanced the data set is, it would\n",
    "be nice to have F1Score calculated for us. That would require a bit more code that we would\n",
    "have time to write in this practical.)\n",
    "\n",
    "_Note to cohorts after 2023-10: check to see if F1Score is now part of default Keras releases._"
   ]
  },
  {
   "cell_type": "code",
   "execution_count": null,
   "id": "0db29ba1",
   "metadata": {},
   "outputs": [],
   "source": []
  },
  {
   "cell_type": "markdown",
   "id": "2d05f5c7",
   "metadata": {},
   "source": [
    "Display a summary of your model."
   ]
  },
  {
   "cell_type": "code",
   "execution_count": null,
   "id": "a3e834eb",
   "metadata": {},
   "outputs": [],
   "source": []
  },
  {
   "cell_type": "markdown",
   "id": "98dc5cae",
   "metadata": {},
   "source": [
    "Fit the model. \n",
    "\n",
    "You will need:\n",
    "\n",
    "- `x` will be your training vectors\n",
    "\n",
    "- `y` will be the `requires_specialist` column\n",
    "\n",
    "- `validation_data` will be the same as for training, but using the validation data\n",
    "\n",
    "- You might want a callback to stop training when the validation loss stops improving.\n",
    "\n",
    "- You won't need many epochs: it should be less than 100, and they should be quick to run.\n",
    "\n",
    "Save the history into a variable so that we can look at it."
   ]
  },
  {
   "cell_type": "code",
   "execution_count": null,
   "id": "13fbba6e",
   "metadata": {},
   "outputs": [],
   "source": []
  },
  {
   "cell_type": "markdown",
   "id": "cddc0441",
   "metadata": {},
   "source": [
    "Make a matplotlib chart showing the accuracy and training loss over time."
   ]
  },
  {
   "cell_type": "code",
   "execution_count": null,
   "id": "3afc8b3b",
   "metadata": {},
   "outputs": [],
   "source": []
  },
  {
   "cell_type": "markdown",
   "id": "19e0d317",
   "metadata": {},
   "source": [
    "Calculate the corpus size, the vocabulary size and their ratio (i.e. the corpus size divided by the vocabulary size).\n",
    "Based on this and the previous charts, decide whether the model is likely to be overfitting."
   ]
  },
  {
   "cell_type": "code",
   "execution_count": null,
   "id": "9ebb4917",
   "metadata": {},
   "outputs": [],
   "source": []
  },
  {
   "cell_type": "markdown",
   "id": "2a3f54e8",
   "metadata": {},
   "source": [
    "Calculate an appropriate vocabulary size if you only wanted to include words that appeared in the\n",
    "training data at least 3 times. Go back to where you defined your TextVectorization object and \n",
    "set `max_tokens` to (this value + 1). It might give you a tiny improvement in your validation scores.\n",
    "\n",
    "Also try using bigrams. Does this help? "
   ]
  },
  {
   "cell_type": "code",
   "execution_count": null,
   "id": "f3090909",
   "metadata": {},
   "outputs": [],
   "source": []
  },
  {
   "cell_type": "markdown",
   "id": "c06aedbf",
   "metadata": {},
   "source": [
    "Use `.evaluate` on your test data to confirm that your validation results are still close to the test results and\n",
    "our parameter tuning for validation hasn't altered the results too much."
   ]
  },
  {
   "cell_type": "code",
   "execution_count": null,
   "id": "203cc665",
   "metadata": {},
   "outputs": [],
   "source": []
  },
  {
   "cell_type": "markdown",
   "id": "0f71cdf1",
   "metadata": {},
   "source": [
    "## Explainability\n",
    "\n",
    "People's health is important. We can't let them use a black-box classifier for analysing their health conditions.\n",
    "\n",
    "What words were the most predictive that a general practitioner could help, and what words were most predictive\n",
    "that a specialist would be required?\n",
    "\n",
    "The `wordeffects.py` file might be helpful here."
   ]
  },
  {
   "cell_type": "code",
   "execution_count": null,
   "id": "ad55a15b",
   "metadata": {},
   "outputs": [],
   "source": []
  },
  {
   "cell_type": "markdown",
   "id": "2a9e06a2",
   "metadata": {},
   "source": [
    "## Harder task: predicting the actual disease, not just who to go to"
   ]
  },
  {
   "cell_type": "markdown",
   "id": "c8fd78b3",
   "metadata": {},
   "source": [
    "Unlike (say) the sklearn classifiers, keras can't work with text labels for classes. Use\n",
    "`sklearn.preprocessing.LabelEncoder` to convert the disease labels into integer labels."
   ]
  },
  {
   "cell_type": "code",
   "execution_count": null,
   "id": "9e5d3039",
   "metadata": {},
   "outputs": [],
   "source": []
  },
  {
   "cell_type": "markdown",
   "id": "359f9204",
   "metadata": {},
   "source": [
    "You can re-use the existing `keras.Input` since that hasn't changed, or define a new one.\n",
    "Then create an output layer:\n",
    "\n",
    "- It will need as many neurons as there are diseases\n",
    "\n",
    "- Use a 'softmax' activation to normalise the probabilities\n",
    "\n",
    "And then create a model using those inputs and outputs."
   ]
  },
  {
   "cell_type": "code",
   "execution_count": null,
   "id": "5f15f49f",
   "metadata": {},
   "outputs": [],
   "source": []
  },
  {
   "cell_type": "markdown",
   "id": "5856659d",
   "metadata": {},
   "source": [
    "To compile this model we will need to use `sparse_categorical_crossentropy` as the\n",
    "loss. Let's use accuracy as the only other metric (we know how to add more if we need to.)"
   ]
  },
  {
   "cell_type": "code",
   "execution_count": null,
   "id": "226ecac5",
   "metadata": {},
   "outputs": [],
   "source": []
  },
  {
   "cell_type": "markdown",
   "id": "6f1f8afa",
   "metadata": {},
   "source": [
    "Plot the accuracy and loss for the training data and validation data"
   ]
  },
  {
   "cell_type": "code",
   "execution_count": null,
   "id": "c6aa2d84",
   "metadata": {},
   "outputs": [],
   "source": []
  },
  {
   "cell_type": "markdown",
   "id": "aa86ddf1",
   "metadata": {},
   "source": [
    "It's less obvious how to improve this model now, but we do have fairly good accuracy anyway. \n",
    "\n",
    "Confirm that the accuracy is also quite good on the test data."
   ]
  },
  {
   "cell_type": "code",
   "execution_count": null,
   "id": "dc1b0520",
   "metadata": {},
   "outputs": [],
   "source": []
  },
  {
   "cell_type": "markdown",
   "id": "89baf39b",
   "metadata": {},
   "source": [
    "## Free-form\n",
    "\n",
    "Try to optimise the model by adding extra layers, modifying the vocabulary or any other ideas you want to try out."
   ]
  },
  {
   "cell_type": "code",
   "execution_count": null,
   "id": "58c34f4c",
   "metadata": {},
   "outputs": [],
   "source": []
  },
  {
   "cell_type": "code",
   "execution_count": null,
   "id": "8d31a71c",
   "metadata": {},
   "outputs": [],
   "source": []
  },
  {
   "cell_type": "code",
   "execution_count": null,
   "id": "15f7ebf2",
   "metadata": {},
   "outputs": [],
   "source": []
  },
  {
   "cell_type": "code",
   "execution_count": null,
   "id": "35782cee",
   "metadata": {},
   "outputs": [],
   "source": []
  }
 ],
 "metadata": {
  "kernelspec": {
   "display_name": "Python 3 (ipykernel)",
   "language": "python",
   "name": "python3"
  },
  "language_info": {
   "codemirror_mode": {
    "name": "ipython",
    "version": 3
   },
   "file_extension": ".py",
   "mimetype": "text/x-python",
   "name": "python",
   "nbconvert_exporter": "python",
   "pygments_lexer": "ipython3",
   "version": "3.10.9"
  }
 },
 "nbformat": 4,
 "nbformat_minor": 5
}
